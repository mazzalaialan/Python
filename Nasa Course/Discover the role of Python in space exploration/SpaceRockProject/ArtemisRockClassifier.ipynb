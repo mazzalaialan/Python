{
 "metadata": {
  "language_info": {
   "codemirror_mode": {
    "name": "ipython",
    "version": 3
   },
   "file_extension": ".py",
   "mimetype": "text/x-python",
   "name": "python",
   "nbconvert_exporter": "python",
   "pygments_lexer": "ipython3",
   "version": "3.7.8-candidate"
  },
  "orig_nbformat": 2,
  "kernelspec": {
   "name": "python_defaultSpec_1599609152257",
   "display_name": "Python 3.7.8 64-bit"
  }
 },
 "nbformat": 4,
 "nbformat_minor": 2,
 "cells": [
  {
   "cell_type": "code",
   "execution_count": 1,
   "metadata": {
    "tags": []
   },
   "outputs": [
    {
     "output_type": "stream",
     "name": "stdout",
     "text": "Artemis Rover Rock Scanner Starting\n"
    }
   ],
   "source": [
    "print(\"Artemis Rover Rock Scanner Starting\")\n"
   ]
  },
  {
   "cell_type": "code",
   "execution_count": 2,
   "metadata": {
    "tags": []
   },
   "outputs": [
    {
     "output_type": "stream",
     "name": "stdout",
     "text": "Reading Rocks\n\n"
    }
   ],
   "source": [
    "basalt = 0\n",
    "breccia = 0\n",
    "highland = 0\n",
    "regolith = 0\n",
    "rockList = []\n",
    "\n",
    "strPath = \"rocks.txt\"\n",
    "fileObject = open(strPath)\n",
    "line = fileObject.readline()\n",
    "print(line)"
   ]
  },
  {
   "cell_type": "code",
   "execution_count": 3,
   "metadata": {
    "tags": []
   },
   "outputs": [
    {
     "output_type": "stream",
     "name": "stdout",
     "text": "basalt\n\nbreccia\n\nhighland\n\nregolith\n\nhighland\n\nbreccia\n\nhighland\n\nregolith\n\nregolith\n\nbasalt\n\nhighland\n\nbasalt\n\nbreccia\n\nbreccia\n\nregolith\n\nbreccia\n\nhighland\n\nhighland\n\nbreccia\n\nbasalt\n"
    }
   ],
   "source": [
    "rockList = fileObject.readlines()\n",
    "\n",
    "for rock in rockList:\n",
    "    print(rock)\n",
    "\n",
    "fileObject.close()"
   ]
  },
  {
   "cell_type": "code",
   "execution_count": 4,
   "metadata": {},
   "outputs": [],
   "source": [
    "def countMoonRocks(rockToID):\n",
    "    global basalt\n",
    "    global breccia\n",
    "    global highland\n",
    "    global regolith\n",
    "\n",
    "    rockToID = rockToID.lower()\n",
    "\n",
    "    if(\"basalt\" in rockToID):\n",
    "        print(\"Found a basalt\\n\")\n",
    "        basalt += 1\n",
    "    elif(\"breccia\" in rockToID):\n",
    "        print(\"Found a breccia\\n\")\n",
    "        breccia += 1\n",
    "    elif(\"highland\" in rockToID):\n",
    "        print(\"Found a highland\\n\")\n",
    "        highland += 1\n",
    "    elif(\"regolith\" in rockToID):\n",
    "        print(\"Found a regolith\\n\")\n",
    "        regolith += 1\n",
    "\n",
    "    return"
   ]
  },
  {
   "cell_type": "code",
   "execution_count": 5,
   "metadata": {
    "tags": []
   },
   "outputs": [
    {
     "output_type": "stream",
     "name": "stdout",
     "text": "Found a basalt\n\nFound a breccia\n\nFound a highland\n\nFound a regolith\n\nFound a highland\n\nFound a breccia\n\nFound a highland\n\nFound a regolith\n\nFound a regolith\n\nFound a basalt\n\nFound a highland\n\nFound a basalt\n\nFound a breccia\n\nFound a breccia\n\nFound a regolith\n\nFound a breccia\n\nFound a highland\n\nFound a highland\n\nFound a breccia\n\nFound a basalt\n\n"
    }
   ],
   "source": [
    "for rock in rockList:\n",
    "    countMoonRocks(rock)"
   ]
  },
  {
   "cell_type": "code",
   "execution_count": 6,
   "metadata": {
    "tags": []
   },
   "outputs": [
    {
     "output_type": "stream",
     "name": "stdout",
     "text": "Number of Basalt:  4\nNumber of Breccia:  6\nNumber of Highland:  6\nNumber of Regolith:  4\nThe max number of one type of rock found was: 6\nThe minimum number of one type of rock found was: 4\n"
    }
   ],
   "source": [
    "print(\"Number of Basalt: \", basalt)\n",
    "print(\"Number of Breccia: \", breccia)\n",
    "print(\"Number of Highland: \", highland)\n",
    "print(\"Number of Regolith: \", regolith)\n",
    "\n",
    "print(\"The max number of one type of rock found was:\", max(basalt, breccia, highland,regolith))\n",
    "print(\"The minimum number of one type of rock found was:\", min(basalt, breccia, highland, regolith))"
   ]
  },
  {
   "cell_type": "code",
   "execution_count": 7,
   "metadata": {},
   "outputs": [],
   "source": [
    "fileObject.close()"
   ]
  },
  {
   "cell_type": "code",
   "execution_count": null,
   "metadata": {},
   "outputs": [],
   "source": []
  }
 ]
}